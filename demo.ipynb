{
 "cells": [
  {
   "cell_type": "markdown",
   "id": "5d7ff7fc",
   "metadata": {},
   "source": [
    "## 正常"
   ]
  },
  {
   "cell_type": "markdown",
   "id": "bccca5a9",
   "metadata": {},
   "source": [
    "### 微调"
   ]
  },
  {
   "cell_type": "code",
   "execution_count": null,
   "id": "9ba733da",
   "metadata": {},
   "outputs": [],
   "source": [
    "import hcgf\n",
    "gl = hcgf.GlmLora(\"THUDM/chatglm-6b\", device=\"cuda:0\", lora_r=32)"
   ]
  },
  {
   "cell_type": "code",
   "execution_count": null,
   "id": "0e75df24",
   "metadata": {},
   "outputs": [],
   "source": [
    "gl.load_data(\"./data/chatgpt_finetune_faq.json\").tune()"
   ]
  },
  {
   "cell_type": "markdown",
   "id": "925aa224",
   "metadata": {},
   "source": [
    "### 推理\n",
    "\n",
    "重启下"
   ]
  },
  {
   "cell_type": "code",
   "execution_count": null,
   "id": "a08992e5",
   "metadata": {},
   "outputs": [],
   "source": [
    "import hcgf\n",
    "gl = hcgf.GlmLora(\"THUDM/chatglm-6b\", device=\"cuda:1\", infer_mode=True, lora_r=32)"
   ]
  },
  {
   "cell_type": "code",
   "execution_count": null,
   "id": "5594ca0c",
   "metadata": {},
   "outputs": [],
   "source": [
    "gl.load_pretrained(\"../souche-ai-chatgpt/src/models/lora-best.pt\").eval()"
   ]
  },
  {
   "cell_type": "code",
   "execution_count": null,
   "id": "538ca979",
   "metadata": {},
   "outputs": [],
   "source": [
    "inp = \"你是哪位？\""
   ]
  },
  {
   "cell_type": "code",
   "execution_count": null,
   "id": "d11ddbfa",
   "metadata": {},
   "outputs": [],
   "source": [
    "gl.chat(inp)"
   ]
  },
  {
   "cell_type": "markdown",
   "id": "4400f7ef",
   "metadata": {},
   "source": [
    "## 8bit"
   ]
  },
  {
   "cell_type": "markdown",
   "id": "fd758105",
   "metadata": {},
   "source": [
    "### 微调"
   ]
  },
  {
   "cell_type": "code",
   "execution_count": null,
   "id": "3d4dcdfd",
   "metadata": {},
   "outputs": [],
   "source": [
    "import hcgf\n",
    "gl = hcgf.GlmLora(\"THUDM/chatglm-6b\", load_in_8bit=True, lora_r=32)"
   ]
  },
  {
   "cell_type": "code",
   "execution_count": null,
   "id": "1dac8c40",
   "metadata": {},
   "outputs": [],
   "source": [
    "gl.load_data(\"./data/chatgpt_finetune_faq.json\").tune()"
   ]
  },
  {
   "cell_type": "markdown",
   "id": "75c72d70",
   "metadata": {},
   "source": [
    "### 推理"
   ]
  },
  {
   "cell_type": "code",
   "execution_count": null,
   "id": "4a083ccb",
   "metadata": {},
   "outputs": [],
   "source": [
    "import hcgf\n",
    "gl = hcgf.GlmLora(\"THUDM/chatglm-6b\", load_in_8bit=True, infer_mode=True, lora_r=32)"
   ]
  },
  {
   "cell_type": "code",
   "execution_count": 2,
   "id": "c7283271",
   "metadata": {},
   "outputs": [],
   "source": [
    "gl.load_pretrained(\"./\").eval()"
   ]
  },
  {
   "cell_type": "code",
   "execution_count": 17,
   "id": "bd1f7fd4",
   "metadata": {},
   "outputs": [
    {
     "name": "stdout",
     "output_type": "stream",
     "text": [
      "哈哈哈，好嘞\n"
     ]
    }
   ],
   "source": [
    "inp = \"讲个笑话\"\n",
    "history = []\n",
    "response, history = gl.chat(inp, history)\n",
    "print(response)"
   ]
  },
  {
   "cell_type": "code",
   "execution_count": null,
   "id": "1795cfab",
   "metadata": {},
   "outputs": [],
   "source": []
  },
  {
   "cell_type": "code",
   "execution_count": null,
   "id": "b22f1d4c",
   "metadata": {},
   "outputs": [],
   "source": []
  }
 ],
 "metadata": {
  "kernelspec": {
   "display_name": "Python 3 (ipykernel)",
   "language": "python",
   "name": "python3"
  },
  "language_info": {
   "codemirror_mode": {
    "name": "ipython",
    "version": 3
   },
   "file_extension": ".py",
   "mimetype": "text/x-python",
   "name": "python",
   "nbconvert_exporter": "python",
   "pygments_lexer": "ipython3",
   "version": "3.8.16"
  },
  "toc": {
   "base_numbering": 1,
   "nav_menu": {},
   "number_sections": true,
   "sideBar": true,
   "skip_h1_title": false,
   "title_cell": "Table of Contents",
   "title_sidebar": "Contents",
   "toc_cell": false,
   "toc_position": {},
   "toc_section_display": true,
   "toc_window_display": false
  },
  "varInspector": {
   "cols": {
    "lenName": 16,
    "lenType": 16,
    "lenVar": 40
   },
   "kernels_config": {
    "python": {
     "delete_cmd_postfix": "",
     "delete_cmd_prefix": "del ",
     "library": "var_list.py",
     "varRefreshCmd": "print(var_dic_list())"
    },
    "r": {
     "delete_cmd_postfix": ") ",
     "delete_cmd_prefix": "rm(",
     "library": "var_list.r",
     "varRefreshCmd": "cat(var_dic_list()) "
    }
   },
   "types_to_exclude": [
    "module",
    "function",
    "builtin_function_or_method",
    "instance",
    "_Feature"
   ],
   "window_display": false
  }
 },
 "nbformat": 4,
 "nbformat_minor": 5
}
